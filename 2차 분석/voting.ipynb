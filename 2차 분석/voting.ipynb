{
 "cells": [
  {
   "cell_type": "code",
   "execution_count": 22,
   "metadata": {},
   "outputs": [],
   "source": [
    "# 선정된 클러스터의 지역\n",
    "\n",
    "c_dbscan = ['마산합포구 월영동', '마산회원구 양덕2동', '성산구 가음정동', \n",
    "           '마산회원구 석전동', '성산구 반송동', '성산구 용지동', '성산구 상남동',\n",
    "           '마산회원구 구암1동', '마산회원구 양덕1동', '마산회원구 구암2동']\n",
    "\n",
    "c_kmeans = ['마산회원구 양덕2동', '성산구 가음정동', '마산회원구 석전동',\n",
    "           '성산구 용지동', '성산구 상남동', '마산회원구 양덕1동', '마산회원구 구암2동']\n",
    "\n",
    "c_kmedoids = ['마산회원구 양덕2동', '성산구 가음정동', '성산구 반송동', '성산구 용지동',\n",
    "             '성산구 상남동', '마산회원구 양덕1동', '마산회원구 구암2동']\n",
    "\n",
    "c_gmm = ['성산구 용지동', '성산구 상남동', '성산구 반송동', '마산회원구 구암2동',\n",
    "        '마산회원구 양덕1동', '마산합포구 산호동', '마산회원구 회원1동',\n",
    "        '마산합포구 오동동', '마산합포구 월영동', '마산회원구 양덕2동',\n",
    "        '마산합포구 반월중앙동', '마산합포구 합포동', '성산구 가음정동']"
   ]
  },
  {
   "cell_type": "code",
   "execution_count": 23,
   "metadata": {},
   "outputs": [],
   "source": [
    "# 클러스터에서 나온 지역 리스트로 합치기\n",
    "c_all = c_dbscan + c_kmeans + c_kmedoids + c_gmm"
   ]
  },
  {
   "cell_type": "code",
   "execution_count": 26,
   "metadata": {},
   "outputs": [
    {
     "name": "stdout",
     "output_type": "stream",
     "text": [
      "Counter({'마산회원구 양덕2동': 4, '성산구 가음정동': 4, '성산구 용지동': 4, '성산구 상남동': 4, '마산회원구 양덕1동': 4, '마산회원구 구암2동': 4, '성산구 반송동': 3, '마산합포구 월영동': 2, '마산회원구 석전동': 2, '마산회원구 구암1동': 1, '마산합포구 산호동': 1, '마산회원구 회원1동': 1, '마산합포구 오동동': 1, '마산합포구 반월중앙동': 1, '마산합포구 합포동': 1})\n"
     ]
    }
   ],
   "source": [
    "# 개수 세어주기\n",
    "from collections import Counter\n",
    "counter = Counter(c_all)\n",
    "print(counter)"
   ]
  },
  {
   "cell_type": "code",
   "execution_count": 25,
   "metadata": {},
   "outputs": [
    {
     "data": {
      "text/plain": [
       "{'마산합포구 반월중앙동',\n",
       " '마산합포구 산호동',\n",
       " '마산합포구 오동동',\n",
       " '마산합포구 월영동',\n",
       " '마산합포구 합포동',\n",
       " '마산회원구 구암1동',\n",
       " '마산회원구 구암2동',\n",
       " '마산회원구 석전동',\n",
       " '마산회원구 양덕1동',\n",
       " '마산회원구 양덕2동',\n",
       " '마산회원구 회원1동',\n",
       " '성산구 가음정동',\n",
       " '성산구 반송동',\n",
       " '성산구 상남동',\n",
       " '성산구 용지동'}"
      ]
     },
     "execution_count": 25,
     "metadata": {},
     "output_type": "execute_result"
    }
   ],
   "source": [
    "# 나온 지역 \n",
    "set(c_all)"
   ]
  },
  {
   "cell_type": "code",
   "execution_count": null,
   "metadata": {},
   "outputs": [],
   "source": []
  }
 ],
 "metadata": {
  "kernelspec": {
   "display_name": "Python 3",
   "language": "python",
   "name": "python3"
  },
  "language_info": {
   "codemirror_mode": {
    "name": "ipython",
    "version": 3
   },
   "file_extension": ".py",
   "mimetype": "text/x-python",
   "name": "python",
   "nbconvert_exporter": "python",
   "pygments_lexer": "ipython3",
   "version": "3.8.6"
  }
 },
 "nbformat": 4,
 "nbformat_minor": 2
}
