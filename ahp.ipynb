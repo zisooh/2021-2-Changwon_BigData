{
 "cells": [
  {
   "cell_type": "code",
   "execution_count": 31,
   "metadata": {},
   "outputs": [],
   "source": [
    "import numpy as np\n",
    "import pandas as pd\n",
    "import itertools"
   ]
  },
  {
   "cell_type": "markdown",
   "metadata": {},
   "source": [
    "## 변수 개수 입력"
   ]
  },
  {
   "cell_type": "code",
   "execution_count": 180,
   "metadata": {},
   "outputs": [
    {
     "name": "stdout",
     "output_type": "stream",
     "text": [
      "변수개수:4\n"
     ]
    }
   ],
   "source": [
    "n = int(input('변수개수:'))"
   ]
  },
  {
   "cell_type": "code",
   "execution_count": 184,
   "metadata": {},
   "outputs": [
    {
     "name": "stdout",
     "output_type": "stream",
     "text": [
      "**설문지 문항수 : 6개\n"
     ]
    }
   ],
   "source": [
    "result=list(itertools.combinations((range(n)),2))\n",
    "print(\"**설문지 문항수 : %s개\" % len(result))\n"
   ]
  },
  {
   "cell_type": "code",
   "execution_count": 185,
   "metadata": {},
   "outputs": [],
   "source": [
    "X=np.zeros((n,n))"
   ]
  },
  {
   "cell_type": "code",
   "execution_count": 186,
   "metadata": {},
   "outputs": [],
   "source": [
    "rilist=[0,0,0.59,0.9,1.12,1.24,1.32,1.41,1.45,1.49]\n",
    "ri=rilist[n-1]"
   ]
  },
  {
   "cell_type": "markdown",
   "metadata": {},
   "source": [
    "## 설문조사 결과 입력"
   ]
  },
  {
   "cell_type": "code",
   "execution_count": 187,
   "metadata": {},
   "outputs": [],
   "source": [
    "ahp=np.array([[1,1,2,1,4,1],[2,2,2,2,2,2]])"
   ]
  },
  {
   "cell_type": "code",
   "execution_count": 188,
   "metadata": {},
   "outputs": [
    {
     "name": "stdout",
     "output_type": "stream",
     "text": [
      "(0.3747+0j)\n"
     ]
    }
   ],
   "source": [
    "print(np.round(cr,4))"
   ]
  },
  {
   "cell_type": "code",
   "execution_count": 189,
   "metadata": {},
   "outputs": [],
   "source": [
    "weights= np.array([range(n)])\n",
    "for ans in ahp:\n",
    "    X=np.zeros((n,n))\n",
    "    dd=[9,8,7,6,5,4,3,2,1,2,3,4,5,6,7,8,9]\n",
    "    num=0\n",
    "    for i in range(n):\n",
    "        X[i,i]=1\n",
    "        for j in range(i+1,n):\n",
    "            k=ans[num]\n",
    "            if k<=8:\n",
    "                X[i,j]=dd[k]\n",
    "                X[j,i]=1/(dd[k])\n",
    "            else:\n",
    "                X[i,j]=1/(dd[k])\n",
    "                X[j,i]=dd[k]\n",
    "            num+=1\n",
    "            \n",
    "        \n",
    "    w,v=np.linalg.eig(X)\n",
    "    cr = (max(w)-n)/((n-1)*ri)\n",
    "    \n",
    "    if cr<=0.5: #일관성지수 : 0.2가 일반적\n",
    "        sums = X.sum(axis=0)\n",
    "        ddd= np.array([range(n)])\n",
    "        for i in range(n):\n",
    "            ddd = np.concatenate((ddd,[X[:,i]/sums[i]]),axis= 0)\n",
    "        ddd=ddd[1:,:]        \n",
    "        A = np.array(ddd).T\n",
    "        weights = np.concatenate((weights,[A.mean(axis=1)]),axis= 0)\n",
    "\n",
    "weights=weights[1:,:]\n",
    "weight_final=weights.mean(axis=0)"
   ]
  },
  {
   "cell_type": "code",
   "execution_count": 190,
   "metadata": {},
   "outputs": [
    {
     "data": {
      "text/plain": [
       "array([[0.7       , 0.84482759, 0.46226415, 0.31818182],\n",
       "       [0.1       , 0.12068966, 0.46226415, 0.31818182],\n",
       "       [0.1       , 0.01724138, 0.06603774, 0.31818182],\n",
       "       [0.1       , 0.01724138, 0.00943396, 0.04545455]])"
      ]
     },
     "execution_count": 190,
     "metadata": {},
     "output_type": "execute_result"
    }
   ],
   "source": [
    "A"
   ]
  },
  {
   "cell_type": "code",
   "execution_count": 191,
   "metadata": {},
   "outputs": [
    {
     "data": {
      "text/plain": [
       "array([0.58770222, 0.23792079, 0.13049449, 0.0438825 ])"
      ]
     },
     "execution_count": 191,
     "metadata": {},
     "output_type": "execute_result"
    }
   ],
   "source": [
    "weight_final"
   ]
  }
 ],
 "metadata": {
  "kernelspec": {
   "display_name": "Python 3",
   "language": "python",
   "name": "python3"
  },
  "language_info": {
   "codemirror_mode": {
    "name": "ipython",
    "version": 3
   },
   "file_extension": ".py",
   "mimetype": "text/x-python",
   "name": "python",
   "nbconvert_exporter": "python",
   "pygments_lexer": "ipython3",
   "version": "3.8.6"
  }
 },
 "nbformat": 4,
 "nbformat_minor": 4
}
